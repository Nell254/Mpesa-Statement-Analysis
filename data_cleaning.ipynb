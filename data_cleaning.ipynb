{
 "cells": [
  {
   "cell_type": "code",
   "execution_count": null,
   "metadata": {},
   "outputs": [],
   "source": [
    "import pandas as pd"
   ]
  },
  {
   "cell_type": "code",
   "execution_count": null,
   "metadata": {},
   "outputs": [],
   "source": [
    "# load the summary and detailed mpesa statements\n",
    "detailed_df = pd.read_csv(\"C:/Users/nmwem/OneDrive/Desktop/Mpesa-Statement-Analysis/detailed_statement.csv\")\n",
    "\n",
    "summary_df = pd.read_csv(\"C:/Users/nmwem/OneDrive/Desktop/Mpesa-Statement-Analysis/summary_statement.csv\")"
   ]
  },
  {
   "cell_type": "code",
   "execution_count": null,
   "metadata": {},
   "outputs": [],
   "source": [
    "detailed_df.info()\n",
    "summary_df.info()"
   ]
  },
  {
   "cell_type": "code",
   "execution_count": null,
   "metadata": {},
   "outputs": [],
   "source": [
    "# Drop unwanted columns\n",
    "detailed_df.drop(['Receipt No.', 'Transaction Status', 'Unnamed: 0'], axis=1, inplace=True)\n",
    "\n",
    "summary_df.drop(['Unnamed: 0'], axis=1, inplace=True)"
   ]
  },
  {
   "cell_type": "code",
   "execution_count": null,
   "metadata": {},
   "outputs": [],
   "source": [
    "# Rename columns for consistency\n",
    "detailed_df.rename(columns={'Completion Time': 'completion_time', 'Details': 'description', 'Paid In': 'paid_in', 'Withdrawn': 'withdrawn', 'Balance': 'balance'}, inplace=True)\n",
    "\n",
    "summary_df.rename(columns={'TRANSACTION TYPE': 'transaction_type', 'PAID IN': 'paid_in', 'PAID OUT': 'paid_out'}, inplace=True)"
   ]
  },
  {
   "cell_type": "code",
   "execution_count": null,
   "metadata": {},
   "outputs": [],
   "source": [
    "# Convert columns to appropriate data types\n",
    "detailed_df['completion_time'] = pd.to_datetime(detailed_df['completion_time'], format='%Y-%m-%d %H:%M:%S')\n",
    "detailed_df['paid_in'] = pd.to_numeric(detailed_df['paid_in'].str.replace(',', ''))\n",
    "detailed_df['withdrawn'] = pd.to_numeric(detailed_df['withdrawn'].str.replace(',', ''))\n",
    "detailed_df['balance'] = pd.to_numeric(detailed_df['balance'].str.replace(',', ''))\n",
    "\n",
    "summary_df['paid_in'] = pd.to_numeric(summary_df['paid_in'].str.replace(',', ''))\n",
    "summary_df['paid_out'] = pd.to_numeric(summary_df['paid_out'].str.replace(',', ''))\n"
   ]
  },
  {
   "cell_type": "code",
   "execution_count": null,
   "metadata": {},
   "outputs": [],
   "source": [
    "# Removing any personal info in the description column\n",
    "# Retaining the first 2 words that gives an overview of the reasons behind the trasaction\n",
    "detailed_df['description'] = detailed_df['description'].str.split().str[:2].str.join(' ')\n"
   ]
  },
  {
   "cell_type": "code",
   "execution_count": null,
   "metadata": {},
   "outputs": [],
   "source": [
    "summary_df.to_csv('cleaned_summary_statement.csv', index = False)\n",
    "detailed_df.to_csv('cleaned_detailed_statement.csv', index = False)"
   ]
  }
 ],
 "metadata": {
  "kernelspec": {
   "display_name": "base",
   "language": "python",
   "name": "python3"
  },
  "language_info": {
   "codemirror_mode": {
    "name": "ipython",
    "version": 3
   },
   "file_extension": ".py",
   "mimetype": "text/x-python",
   "name": "python",
   "nbconvert_exporter": "python",
   "pygments_lexer": "ipython3",
   "version": "3.9.12"
  },
  "orig_nbformat": 4
 },
 "nbformat": 4,
 "nbformat_minor": 2
}
