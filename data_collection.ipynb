{
 "cells": [
  {
   "cell_type": "code",
   "execution_count": null,
   "metadata": {},
   "outputs": [],
   "source": [
    "# Importing the necessary libraries\n",
    "import tabula\n",
    "import pandas as pd\n",
    "from tabula.io import read_pdf"
   ]
  },
  {
   "cell_type": "code",
   "execution_count": null,
   "metadata": {},
   "outputs": [],
   "source": [
    "# Setting the path to the PDF file\n",
    "file_path = \"C:\\\\Users\\\\nmwem\\\\Downloads\\\\Documents\\\\MPESA_Statement_2022-05-13_to_2023-05-13_2547xxxxxx869.pdf\""
   ]
  },
  {
   "cell_type": "code",
   "execution_count": null,
   "metadata": {},
   "outputs": [],
   "source": [
    "# Extracting the data from the PDF file\n",
    "df_list = tabula.read_pdf(file_path, pages='all', password='497062')\n"
   ]
  },
  {
   "cell_type": "code",
   "execution_count": null,
   "metadata": {},
   "outputs": [],
   "source": [
    "df_list"
   ]
  },
  {
   "cell_type": "code",
   "execution_count": null,
   "metadata": {},
   "outputs": [],
   "source": [
    "new_list = []\n",
    "for df in df_list:\n",
    "    # Only keep dfs with more than 3 rows. \n",
    "    # eliminated dfs contain data for mpesa statement verification & validation\n",
    "    if len(df) > 2: \n",
    "        new_list.append(df)\n",
    "\n",
    "# Replace original list with updated list\n",
    "df_list = new_list          "
   ]
  },
  {
   "cell_type": "code",
   "execution_count": null,
   "metadata": {},
   "outputs": [],
   "source": [
    "df_list"
   ]
  },
  {
   "cell_type": "code",
   "execution_count": null,
   "metadata": {},
   "outputs": [],
   "source": [
    "# first df in the list is the summary statement\n",
    "summary_statement = df_list[0]\n",
    "\n",
    "summary_statement.to_csv('summary_statement.csv', index=False)"
   ]
  },
  {
   "cell_type": "code",
   "execution_count": null,
   "metadata": {},
   "outputs": [],
   "source": [
    "# the remaining dfs in the list are detailed statements from different pages in the pdf mpesa statement\n",
    "detailed_statement = pd.concat(df_list[1:], ignore_index=True)\n",
    "\n",
    "# save combined dataframe as CSV file\n",
    "detailed_statement.to_csv('detailed_statement.csv', index=False)"
   ]
  }
 ],
 "metadata": {
  "kernelspec": {
   "display_name": "base",
   "language": "python",
   "name": "python3"
  },
  "language_info": {
   "codemirror_mode": {
    "name": "ipython",
    "version": 3
   },
   "file_extension": ".py",
   "mimetype": "text/x-python",
   "name": "python",
   "nbconvert_exporter": "python",
   "pygments_lexer": "ipython3",
   "version": "3.9.12"
  },
  "orig_nbformat": 4
 },
 "nbformat": 4,
 "nbformat_minor": 2
}
